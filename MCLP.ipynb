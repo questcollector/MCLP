{
 "cells": [
  {
   "cell_type": "code",
   "execution_count": 151,
   "metadata": {},
   "outputs": [],
   "source": [
    "import numpy as np\n",
    "import pandas as pd\n",
    "from pulp import *"
   ]
  },
  {
   "cell_type": "code",
   "execution_count": 2,
   "metadata": {
    "collapsed": true
   },
   "outputs": [
    {
     "name": "stdout",
     "output_type": "stream",
     "text": [
      "\t Testing zero subtraction\n",
      "\t Testing inconsistant lp solution\n",
      "\t Testing continuous LP solution\n",
      "\t Testing maximize continuous LP solution\n",
      "\t Testing unbounded continuous LP solution\n",
      "\t Testing Long Names\n",
      "\t Testing repeated Names\n",
      "\t Testing zero constraint\n",
      "\t Testing zero objective\n",
      "\t Testing LpVariable (not LpAffineExpression) objective\n",
      "\t Testing Long lines in LP\n",
      "\t Testing LpAffineExpression divide\n",
      "\t Testing MIP solution\n",
      "\t Testing MIP solution with floats in objective\n",
      "\t Testing MIP relaxation\n",
      "\t Testing feasibility problem (no objective)\n",
      "\t Testing an infeasible problem\n",
      "\t Testing an integer infeasible problem\n",
      "\t Testing column based modelling\n",
      "\t Testing dual variables and slacks reporting\n",
      "\t Testing fractional constraints\n",
      "\t Testing elastic constraints (no change)\n",
      "\t Testing elastic constraints (freebound)\n",
      "\t Testing elastic constraints (penalty unchanged)\n",
      "\t Testing elastic constraints (penalty unbounded)\n",
      "* Solver <class 'pulp.solvers.PULP_CBC_CMD'> passed.\n",
      "Solver <class 'pulp.solvers.CPLEX_DLL'> unavailable\n",
      "Solver <class 'pulp.solvers.CPLEX_CMD'> unavailable\n",
      "Solver <class 'pulp.solvers.CPLEX_PY'> unavailable\n",
      "Solver <class 'pulp.solvers.COIN_CMD'> unavailable\n",
      "Solver <class 'pulp.solvers.COINMP_DLL'> unavailable\n",
      "Solver <class 'pulp.solvers.GLPK_CMD'> unavailable\n",
      "Solver <class 'pulp.solvers.XPRESS'> unavailable\n",
      "Solver <class 'pulp.solvers.GUROBI'> unavailable\n",
      "Solver <class 'pulp.solvers.GUROBI_CMD'> unavailable\n",
      "Solver <class 'pulp.solvers.PYGLPK'> unavailable\n",
      "Solver <class 'pulp.solvers.YAPOSIB'> unavailable\n"
     ]
    }
   ],
   "source": [
    "pulp.pulpTestAll()"
   ]
  },
  {
   "cell_type": "code",
   "execution_count": 152,
   "metadata": {},
   "outputs": [],
   "source": [
    "def MCLPModel(I, J, a, N, P):\n",
    "    prob = LpProblem(\"MCLP\", LpMaximize)\n",
    "    x = LpVariable.dicts(\"x\", J, lowBound = 0, upBound = 1, cat=\"Integer\")\n",
    "    y = LpVariable.dicts(\"y\", I, lowBound = 0, upBound = 1, cat=\"Integer\")\n",
    "    \n",
    "    # Maximizes\n",
    "    prob += lpSum([a[i]*y[i] for i in I])\n",
    "    \n",
    "    # Constraints\n",
    "    for i in I:\n",
    "        prob += lpSum([x[j] for j in N[i]]) >= y[i]\n",
    "\n",
    "    prob += lpSum([x[j] for j in J]) == P\n",
    "    \n",
    "    prob.solve()\n",
    "    x_soln = np.array([x[j].varValue for j in J])\n",
    "    facilities_ID = np.where(x_soln == 1)\n",
    "    \n",
    "    return [prob,facilities_ID]"
   ]
  },
  {
   "cell_type": "code",
   "execution_count": 155,
   "metadata": {},
   "outputs": [],
   "source": [
    "def writeResult(result, prob, facilities, a, dataName, P):\n",
    "    result.write(\"Data: \" + dataName + \"\\n\")\n",
    "    result.write(\"Population Served is = %s\\n\" %value(prob.objective))\n",
    "    result.write(\"The Ratio of covered population is = %s\" %round(value(prob.objective)/sum(a) * 100, 1))\n",
    "    result.write(\"% \\n\")\n",
    "    result.write(\"location = %s\\n\\n\" %facilities[0])"
   ]
  },
  {
   "cell_type": "code",
   "execution_count": 153,
   "metadata": {},
   "outputs": [],
   "source": [
    "# variable setting\n",
    "I = [i for i in range(5915)] # demand nodes\n",
    "J = [j for j in range(1991)] # facility sites\n",
    "S = 200                       # maximum distance\n",
    "dist = np.loadtxt(\"C:/smoking/data/analysis/distanceMatrix.csv\", delimiter=\",\", dtype=np.float32) # distance matrix\n",
    "N = [[j for j in J if dist[i][j] < S] for i in I] # facility sites that can be reached from demand nodes within maximum distance"
   ]
  },
  {
   "cell_type": "code",
   "execution_count": null,
   "metadata": {},
   "outputs": [
    {
     "name": "stdout",
     "output_type": "stream",
     "text": [
      "morning_weekday.csv 1 complete\n",
      "morning_weekday.csv 5 complete\n",
      "morning_weekday.csv 10 complete\n",
      "morning_weekday.csv 15 complete\n",
      "morning_weekday.csv 20 complete\n",
      "morning_weekday.csv 30 complete\n",
      "morning_weekday.csv 40 complete\n",
      "morning_weekday.csv 60 complete\n",
      "morning_weekday.csv 80 complete\n",
      "morning_weekday.csv 100 complete\n",
      "morning_weekday.csv 120 complete\n",
      "morning_weekday.csv 150 complete\n",
      "morning_weekday.csv 200 complete\n",
      "noon_weekday.csv 1 complete\n",
      "noon_weekday.csv 5 complete\n",
      "noon_weekday.csv 10 complete\n",
      "noon_weekday.csv 15 complete\n",
      "noon_weekday.csv 20 complete\n",
      "noon_weekday.csv 30 complete\n",
      "noon_weekday.csv 40 complete\n",
      "noon_weekday.csv 60 complete\n"
     ]
    }
   ],
   "source": [
    "time = [\"morning\", \"noon\", \"afternoon\", \"evening\", \"night\"] \n",
    "week = [\"weekday\", \"weekend\"]\n",
    "Plist = [1,5,10,15,20,30,40,60,80,100,120,150,200]\n",
    "# analysis result file\n",
    "result = open(\"C:/smoking/result.txt\",\"w\")\n",
    "\n",
    "for w in week:\n",
    "    for t in time:\n",
    "        for P in Plist:\n",
    "            dataName = \"_\".join([t,w]) + \".csv\"\n",
    "            A = pd.read_csv(\"C:/smoking/data/analysis/\"+dataName)\n",
    "            a = A.SMOKER\n",
    "            \n",
    "            prob, facilities = MCLPModel(I, J, a, N, P)\n",
    "            writeResult(result, prob, facilities, a, dataName, P)         \n",
    "            \n",
    "            print(dataName, P, \"complete\")\n",
    "\n",
    "result.close()\n"
   ]
  }
 ],
 "metadata": {
  "kernelspec": {
   "display_name": "Python 3",
   "language": "python",
   "name": "python3"
  },
  "language_info": {
   "codemirror_mode": {
    "name": "ipython",
    "version": 3
   },
   "file_extension": ".py",
   "mimetype": "text/x-python",
   "name": "python",
   "nbconvert_exporter": "python",
   "pygments_lexer": "ipython3",
   "version": "3.6.5"
  }
 },
 "nbformat": 4,
 "nbformat_minor": 2
}
